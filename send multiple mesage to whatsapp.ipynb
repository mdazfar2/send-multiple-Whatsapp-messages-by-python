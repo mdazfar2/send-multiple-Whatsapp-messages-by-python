{
 "cells": [
  {
   "cell_type": "code",
   "execution_count": null,
   "id": "8e2f4d03",
   "metadata": {},
   "outputs": [],
   "source": [
    "import time\n",
    "import pywhatkit\n",
    "import pyautogui\n",
    "from pynput.keyboard import Key, Controller\n",
    "\n",
    "keyboard = Controller()\n",
    "\n",
    "\n",
    "def send_whatsapp_message(msg: str, phone_numbers: list):\n",
    "    try:\n",
    "        for phone_no in phone_numbers:\n",
    "            pywhatkit.sendwhatmsg_instantly(\n",
    "                phone_no=phone_no,\n",
    "                message=msg,\n",
    "                tab_close=True\n",
    "            )\n",
    "            time.sleep(10)\n",
    "            pyautogui.click()\n",
    "            time.sleep(2)\n",
    "            keyboard.press(Key.enter)\n",
    "            keyboard.release(Key.enter)\n",
    "            print(f\"Message sent to {phone_no}!\")\n",
    "\n",
    "    except Exception as e:\n",
    "        print(str(e))\n",
    "\n",
    "\n",
    "if _name_ == \"_main_\":\n",
    "    # List of phone numbers of your friends\n",
    "    friend_numbers = [\"+919308208779\", \"+917389654270\", \"+917764950400\" ,]\n",
    "\n",
    "    message = \"Hey bro, have you completed your Python task?\"\n",
    "    send_whatsapp_message(msg=message, phone_numbers=friend_numbers)"
   ]
  }
 ],
 "metadata": {
  "kernelspec": {
   "display_name": "Python 3 (ipykernel)",
   "language": "python",
   "name": "python3"
  },
  "language_info": {
   "codemirror_mode": {
    "name": "ipython",
    "version": 3
   },
   "file_extension": ".py",
   "mimetype": "text/x-python",
   "name": "python",
   "nbconvert_exporter": "python",
   "pygments_lexer": "ipython3",
   "version": "3.11.3"
  }
 },
 "nbformat": 4,
 "nbformat_minor": 5
}
